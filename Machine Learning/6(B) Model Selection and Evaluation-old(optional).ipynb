{
 "cells": [
  {
   "cell_type": "markdown",
   "metadata": {},
   "source": [
    "## Overview\n",
    "\n",
    "1. Model performance Evaluation\n",
    "2. Grid Search\n",
    "3. Compare all classifiers\n",
    "4. Stacking\n",
    "5. Learning curve\n",
    "6. Trained by Deep learning\n",
    "7. Apply best parameters"
   ]
  },
  {
   "cell_type": "markdown",
   "metadata": {},
   "source": [
    "## Prepare dataset"
   ]
  },
  {
   "cell_type": "code",
   "execution_count": 1,
   "metadata": {},
   "outputs": [
    {
     "name": "stderr",
     "output_type": "stream",
     "text": [
      "F:\\Programming\\Aanconda\\lib\\site-packages\\sklearn\\externals\\six.py:31: FutureWarning: The module is deprecated in version 0.21 and will be removed in version 0.23 since we've dropped support for Python 2.7. Please rely on the official version of six (https://pypi.org/project/six/).\n",
      "  \"(https://pypi.org/project/six/).\", FutureWarning)\n"
     ]
    }
   ],
   "source": [
    "import pandas as pd\n",
    "import numpy as np\n",
    "from sklearn.model_selection import train_test_split\n",
    "from sklearn.metrics import accuracy_score\n",
    "import matplotlib.pyplot as plt\n",
    "from matplotlib.colors import ListedColormap\n",
    "from sklearn import metrics\n",
    "import xgboost as xgb\n",
    "from sklearn.model_selection import GridSearchCV\n",
    "\n",
    "from sklearn.preprocessing import StandardScaler\n",
    "from sklearn.datasets import make_moons,make_circles,make_classification\n",
    "######  Classifiers\n",
    "from sklearn.neighbors import KNeighborsClassifier\n",
    "from sklearn.tree import DecisionTreeClassifier\n",
    "from sklearn.ensemble import RandomForestClassifier, AdaBoostClassifier\n",
    "from sklearn.naive_bayes import GaussianNB\n",
    "from sklearn.discriminant_analysis import LinearDiscriminantAnalysis\n",
    "from sklearn.discriminant_analysis import QuadraticDiscriminantAnalysis\n",
    "from sklearn.linear_model import LogisticRegression\n",
    "from xgboost import XGBClassifier\n",
    "\n",
    "\n",
    "from mlxtend.classifier import StackingClassifier\n",
    "\n",
    "%matplotlib inline\n",
    "import warnings\n",
    "warnings.filterwarnings('ignore')"
   ]
  },
  {
   "cell_type": "code",
   "execution_count": 2,
   "metadata": {},
   "outputs": [
    {
     "name": "stdout",
     "output_type": "stream",
     "text": [
      "Class labels [1 2 3]\n"
     ]
    },
    {
     "data": {
      "text/html": [
       "<div>\n",
       "<style scoped>\n",
       "    .dataframe tbody tr th:only-of-type {\n",
       "        vertical-align: middle;\n",
       "    }\n",
       "\n",
       "    .dataframe tbody tr th {\n",
       "        vertical-align: top;\n",
       "    }\n",
       "\n",
       "    .dataframe thead th {\n",
       "        text-align: right;\n",
       "    }\n",
       "</style>\n",
       "<table border=\"1\" class=\"dataframe\">\n",
       "  <thead>\n",
       "    <tr style=\"text-align: right;\">\n",
       "      <th></th>\n",
       "      <th>Class label</th>\n",
       "      <th>Alcohol</th>\n",
       "      <th>Malic acid</th>\n",
       "      <th>Ash</th>\n",
       "      <th>Alcalinity of ash</th>\n",
       "      <th>Magnesium</th>\n",
       "      <th>Total phenols</th>\n",
       "      <th>Flavanoids</th>\n",
       "      <th>Nonflavanoid phenols</th>\n",
       "      <th>Proanthocyanins</th>\n",
       "      <th>Color intensity</th>\n",
       "      <th>Hue</th>\n",
       "      <th>OD280/OD315 of diluted wines</th>\n",
       "      <th>Proline</th>\n",
       "    </tr>\n",
       "  </thead>\n",
       "  <tbody>\n",
       "    <tr>\n",
       "      <th>0</th>\n",
       "      <td>1</td>\n",
       "      <td>14.23</td>\n",
       "      <td>1.71</td>\n",
       "      <td>2.43</td>\n",
       "      <td>15.6</td>\n",
       "      <td>127</td>\n",
       "      <td>2.80</td>\n",
       "      <td>3.06</td>\n",
       "      <td>0.28</td>\n",
       "      <td>2.29</td>\n",
       "      <td>5.64</td>\n",
       "      <td>1.04</td>\n",
       "      <td>3.92</td>\n",
       "      <td>1065</td>\n",
       "    </tr>\n",
       "    <tr>\n",
       "      <th>1</th>\n",
       "      <td>1</td>\n",
       "      <td>13.20</td>\n",
       "      <td>1.78</td>\n",
       "      <td>2.14</td>\n",
       "      <td>11.2</td>\n",
       "      <td>100</td>\n",
       "      <td>2.65</td>\n",
       "      <td>2.76</td>\n",
       "      <td>0.26</td>\n",
       "      <td>1.28</td>\n",
       "      <td>4.38</td>\n",
       "      <td>1.05</td>\n",
       "      <td>3.40</td>\n",
       "      <td>1050</td>\n",
       "    </tr>\n",
       "    <tr>\n",
       "      <th>2</th>\n",
       "      <td>1</td>\n",
       "      <td>13.16</td>\n",
       "      <td>2.36</td>\n",
       "      <td>2.67</td>\n",
       "      <td>18.6</td>\n",
       "      <td>101</td>\n",
       "      <td>2.80</td>\n",
       "      <td>3.24</td>\n",
       "      <td>0.30</td>\n",
       "      <td>2.81</td>\n",
       "      <td>5.68</td>\n",
       "      <td>1.03</td>\n",
       "      <td>3.17</td>\n",
       "      <td>1185</td>\n",
       "    </tr>\n",
       "    <tr>\n",
       "      <th>3</th>\n",
       "      <td>1</td>\n",
       "      <td>14.37</td>\n",
       "      <td>1.95</td>\n",
       "      <td>2.50</td>\n",
       "      <td>16.8</td>\n",
       "      <td>113</td>\n",
       "      <td>3.85</td>\n",
       "      <td>3.49</td>\n",
       "      <td>0.24</td>\n",
       "      <td>2.18</td>\n",
       "      <td>7.80</td>\n",
       "      <td>0.86</td>\n",
       "      <td>3.45</td>\n",
       "      <td>1480</td>\n",
       "    </tr>\n",
       "    <tr>\n",
       "      <th>4</th>\n",
       "      <td>1</td>\n",
       "      <td>13.24</td>\n",
       "      <td>2.59</td>\n",
       "      <td>2.87</td>\n",
       "      <td>21.0</td>\n",
       "      <td>118</td>\n",
       "      <td>2.80</td>\n",
       "      <td>2.69</td>\n",
       "      <td>0.39</td>\n",
       "      <td>1.82</td>\n",
       "      <td>4.32</td>\n",
       "      <td>1.04</td>\n",
       "      <td>2.93</td>\n",
       "      <td>735</td>\n",
       "    </tr>\n",
       "  </tbody>\n",
       "</table>\n",
       "</div>"
      ],
      "text/plain": [
       "   Class label  Alcohol  Malic acid   Ash  Alcalinity of ash  Magnesium  \\\n",
       "0            1    14.23        1.71  2.43               15.6        127   \n",
       "1            1    13.20        1.78  2.14               11.2        100   \n",
       "2            1    13.16        2.36  2.67               18.6        101   \n",
       "3            1    14.37        1.95  2.50               16.8        113   \n",
       "4            1    13.24        2.59  2.87               21.0        118   \n",
       "\n",
       "   Total phenols  Flavanoids  Nonflavanoid phenols  Proanthocyanins  \\\n",
       "0           2.80        3.06                  0.28             2.29   \n",
       "1           2.65        2.76                  0.26             1.28   \n",
       "2           2.80        3.24                  0.30             2.81   \n",
       "3           3.85        3.49                  0.24             2.18   \n",
       "4           2.80        2.69                  0.39             1.82   \n",
       "\n",
       "   Color intensity   Hue  OD280/OD315 of diluted wines  Proline  \n",
       "0             5.64  1.04                          3.92     1065  \n",
       "1             4.38  1.05                          3.40     1050  \n",
       "2             5.68  1.03                          3.17     1185  \n",
       "3             7.80  0.86                          3.45     1480  \n",
       "4             4.32  1.04                          2.93      735  "
      ]
     },
     "execution_count": 2,
     "metadata": {},
     "output_type": "execute_result"
    }
   ],
   "source": [
    "### Read Datset  \n",
    "\n",
    "\n",
    "df_wine = pd.read_csv('https://archive.ics.uci.edu/'\n",
    "                      'ml/machine-learning-databases/wine/wine.data',\n",
    "                      header=None,dtype = {'type':np.int32} )\n",
    "\n",
    "df_wine.columns = ['Class label', 'Alcohol', 'Malic acid', 'Ash',\n",
    "                   'Alcalinity of ash', 'Magnesium', 'Total phenols',\n",
    "                   'Flavanoids', 'Nonflavanoid phenols', 'Proanthocyanins',\n",
    "                   'Color intensity', 'Hue', 'OD280/OD315 of diluted wines',\n",
    "                   'Proline']\n",
    "\n",
    "print('Class labels', np.unique(df_wine['Class label']))\n",
    "df_wine.head()\n",
    "\n",
    "\n"
   ]
  },
  {
   "cell_type": "code",
   "execution_count": 3,
   "metadata": {},
   "outputs": [],
   "source": [
    "#### df[row,column]\n",
    "\n",
    "X,y = df_wine.iloc[:,1:].values, df_wine.iloc[:,0].values\n",
    "\n",
    "X_train, X_test, y_train,y_test = train_test_split(X,y,test_size =0.3,random_state = 1)\n",
    "## Standardize  ###\n",
    "\n",
    "from sklearn.preprocessing import StandardScaler\n",
    "\n",
    "sc=  StandardScaler()\n",
    "\n",
    "### Fit the training set\n",
    "sc.fit(X_train)\n",
    "\n",
    "X_train_std = sc.transform(X_train)\n",
    "X_test_std = sc.transform(X_test)\n",
    "\n"
   ]
  },
  {
   "cell_type": "code",
   "execution_count": 4,
   "metadata": {},
   "outputs": [
    {
     "data": {
      "text/plain": [
       "SVC(C=1.0, break_ties=False, cache_size=200, class_weight=None, coef0=0.0,\n",
       "    decision_function_shape='ovr', degree=3, gamma='scale', kernel='rbf',\n",
       "    max_iter=-1, probability=True, random_state=None, shrinking=True, tol=0.001,\n",
       "    verbose=False)"
      ]
     },
     "execution_count": 4,
     "metadata": {},
     "output_type": "execute_result"
    }
   ],
   "source": [
    "from sklearn.svm import SVC\n",
    "from sklearn import metrics\n",
    "\n",
    "svc = SVC(C = 1.0,kernel = 'rbf',probability  =True)\n",
    "svc.fit(X_train_std,y_train)\n"
   ]
  },
  {
   "cell_type": "markdown",
   "metadata": {},
   "source": [
    "# Model performance evaluation\n",
    "\n",
    "- classification report\n",
    "- confusion matrix\n",
    "- classifier score\n",
    "- cross validation score\n",
    "- Accuracy, precision, recall, f1 for testing set\n",
    "- Stratified K-Fold scores"
   ]
  },
  {
   "cell_type": "code",
   "execution_count": 10,
   "metadata": {},
   "outputs": [
    {
     "name": "stdout",
     "output_type": "stream",
     "text": [
      "              precision    recall  f1-score   support\n",
      "\n",
      "           1       1.00      1.00      1.00        23\n",
      "           2       0.95      1.00      0.97        19\n",
      "           3       1.00      0.92      0.96        12\n",
      "\n",
      "    accuracy                           0.98        54\n",
      "   macro avg       0.98      0.97      0.98        54\n",
      "weighted avg       0.98      0.98      0.98        54\n",
      "\n",
      "[[23  0  0]\n",
      " [ 0 19  0]\n",
      " [ 0  1 11]] \n",
      "\n",
      "accuracy score =  0.9814814814814815\n",
      "Average Cross validation score: 0.9756666666666666\n",
      "F1 Macro Cross validation score: 0.9755067155067154\n",
      "precision_macro Cross validation score: 0.9777489177489176\n",
      "recall Cross validation score: 0.9742857142857142\n",
      "precision =  1.0\n",
      "Recall =  1.0\n",
      "F1 Score =  1.0\n"
     ]
    }
   ],
   "source": [
    "from sklearn import metrics\n",
    "from sklearn.model_selection import cross_val_score\n",
    "### 1. Create score table\n",
    "print(metrics.classification_report(y_test,svc.predict(X_test_std)))\n",
    "\n",
    "#### 2. confusion matrix\n",
    "print(metrics.confusion_matrix(y_test,svc.predict(X_test_std)),'\\n')\n",
    "\n",
    "\n",
    "#### 3. Classifier score\n",
    "#### can use in training or testing\n",
    "\n",
    "print(\"accuracy score = \", svc.score(X_test_std,y_test))\n",
    "\n",
    "### 4. cross validation score >> for training set\n",
    "\n",
    "print(\"Average Cross validation score:\",cross_val_score(estimator = svc\n",
    "                                                ,X = X_train_std\n",
    "                                                ,y = y_train\n",
    "                                                ,scoring = 'accuracy'\n",
    "                                                ,cv = 5).mean())\n",
    "\n",
    "print(\"F1 Macro Cross validation score:\",cross_val_score(estimator = svc\n",
    "                                                ,X = X_train_std\n",
    "                                                ,y = y_train\n",
    "                                                ,scoring = 'f1_macro'\n",
    "                                                ,cv = 5).mean())\n",
    "\n",
    "\n",
    "print(\"precision_macro Cross validation score:\",cross_val_score(estimator = svc\n",
    "                                                ,X = X_train_std\n",
    "                                                ,y = y_train\n",
    "                                                ,scoring = 'precision_macro'\n",
    "                                                ,cv = 5).mean())\n",
    "\n",
    "print(\"recall Cross validation score:\",cross_val_score(estimator = svc\n",
    "                                                ,X = X_train_std\n",
    "                                                ,y = y_train\n",
    "                                                ,scoring = 'recall_macro'\n",
    "                                                ,cv = 5).mean())\n",
    "\n",
    "### 5. Acuracy, precision, F1, Recall for training / testing data\n",
    "\n",
    "from sklearn.metrics import accuracy_score\n",
    "from sklearn.metrics import precision_score\n",
    "from sklearn.metrics import recall_score, f1_score\n",
    "#### select average = ['binary','micro','macro','weighted']\n",
    "#### 'macro' is label unweighted mean\n",
    "\n",
    "#### Precision = TP/TP+FP\n",
    "clf = SVC(kernel='rbf', C=1)\n",
    "clf.fit(X_train_std,y_train)    \n",
    "y_pred = clf.predict(X_train_std)\n",
    "y_true = y_train\n",
    "\n",
    "print(\"precision = \",precision_score(y_true = y_true, y_pred = y_pred,average = 'weighted'))\n",
    "\n",
    "#### Recall  = TPR = TP/FN+TP\n",
    "\n",
    "print(\"Recall = \", recall_score(y_true = y_true,y_pred = y_pred,average = 'weighted'))\n",
    "\n",
    "print(\"F1 Score = \",f1_score(y_true = y_true,y_pred = y_pred,average = 'weighted'))\n",
    "\n",
    "#### 6. StratifiedKFold >> used for imbalanced data\n",
    "\n",
    "\n",
    "\n",
    "\n"
   ]
  },
  {
   "cell_type": "markdown",
   "metadata": {},
   "source": [
    "## Grid Search\n",
    "<p>scikit-learn example: http://scikit-learn.org/stable/auto_examples/model_selection/plot_grid_search_digits.html</p>\n",
    "<p>scikit-learn    官網: http://scikit-learn.org/stable/</p>\n",
    "<p>         中文教學說明: https://www.gitbook.com/book/htygithub/machine-learning-python/details </p>\n",
    "\n",
    "\n",
    "<p> predict(X)  >> Call predict on the estimator with the best found parameters.</p>\n",
    "\n",
    "<p>score(X, y=None)>> Returns the score on the given data, if the estimator has been refit.  </p>"
   ]
  },
  {
   "cell_type": "code",
   "execution_count": 11,
   "metadata": {},
   "outputs": [
    {
     "data": {
      "text/plain": [
       "0.9833333333333334"
      ]
     },
     "execution_count": 11,
     "metadata": {},
     "output_type": "execute_result"
    }
   ],
   "source": [
    "### Grid Search demo example  ####\n",
    "\n",
    "### 可先固定某些參數  ####\n",
    "clf = SVC(C = 100)\n",
    "\n",
    "#### Set tunning parameters in dictionary\n",
    "params = [{'kernel':['rbf'], 'gamma': [0.01, 0.001]},\n",
    "          {'kernel':['linear']}]\n",
    "\n",
    "Gclf = GridSearchCV(clf,params,cv = 5,  scoring='precision_macro',n_jobs = -1)\n",
    "Gclf.fit(X_train_std,y_train)\n",
    "\n",
    "Gclf.cv_results_,Gclf.best_params_,Gclf.best_score_\n",
    "\n",
    "### Use best parameters setting to predict\n",
    "test_predict = Gclf.predict(X_test_std)\n",
    "Gclf.score(X_test_std,y_test)"
   ]
  },
  {
   "cell_type": "code",
   "execution_count": 12,
   "metadata": {},
   "outputs": [],
   "source": [
    "\n",
    "# Set the parameters by cross-validation\n",
    "tuned_parameters = [{'kernel': ['rbf'], 'gamma': [1e-3, 1e-4],\n",
    "                     'C': [1, 10, 100, 1000]},\n",
    "                    {'kernel': ['linear'], 'C': [1, 10, 100, 1000]}]\n",
    "\n",
    "scores = ['precision', 'recall', 'f1']\n",
    "#F1 = 2 * (precision * recall) / (precision + recall)\n",
    "\n"
   ]
  },
  {
   "cell_type": "code",
   "execution_count": 13,
   "metadata": {},
   "outputs": [
    {
     "name": "stdout",
     "output_type": "stream",
     "text": [
      "# Tuning hyper-parameters for <precision> -------------\n",
      "\n",
      "Best parameters set found on development set:\n",
      "\n",
      "{'C': 1, 'kernel': 'linear'}\n",
      "\n",
      "Grid scores on development set:\n",
      "mean_test_score (+/- std_test_score) for {parameters..}\n",
      "\n",
      "0.732 (+/-0.117) for {'C': 1, 'gamma': 0.001, 'kernel': 'rbf'}\n",
      "0.725 (+/-0.077) for {'C': 1, 'gamma': 0.0001, 'kernel': 'rbf'}\n",
      "0.736 (+/-0.071) for {'C': 10, 'gamma': 0.001, 'kernel': 'rbf'}\n",
      "0.791 (+/-0.140) for {'C': 10, 'gamma': 0.0001, 'kernel': 'rbf'}\n",
      "0.774 (+/-0.131) for {'C': 100, 'gamma': 0.001, 'kernel': 'rbf'}\n",
      "0.853 (+/-0.089) for {'C': 100, 'gamma': 0.0001, 'kernel': 'rbf'}\n",
      "0.774 (+/-0.131) for {'C': 1000, 'gamma': 0.001, 'kernel': 'rbf'}\n",
      "0.828 (+/-0.116) for {'C': 1000, 'gamma': 0.0001, 'kernel': 'rbf'}\n",
      "0.956 (+/-0.054) for {'C': 1, 'kernel': 'linear'}\n",
      "0.956 (+/-0.054) for {'C': 10, 'kernel': 'linear'}\n",
      "0.956 (+/-0.054) for {'C': 100, 'kernel': 'linear'}\n",
      "0.956 (+/-0.054) for {'C': 1000, 'kernel': 'linear'}\n",
      "\n",
      "Detailed classification report:\n",
      "\n",
      "The model is trained on the full development set\n",
      "The scores are computed on the full evaluation set.\n",
      "\n",
      "              precision    recall  f1-score   support\n",
      "\n",
      "           1       0.96      1.00      0.98        23\n",
      "           2       0.95      0.95      0.95        19\n",
      "           3       1.00      0.92      0.96        12\n",
      "\n",
      "    accuracy                           0.96        54\n",
      "   macro avg       0.97      0.95      0.96        54\n",
      "weighted avg       0.96      0.96      0.96        54\n",
      "\n",
      "\n",
      "# Tuning hyper-parameters for <recall> -------------\n",
      "\n",
      "Best parameters set found on development set:\n",
      "\n",
      "{'C': 1, 'kernel': 'linear'}\n",
      "\n",
      "Grid scores on development set:\n",
      "mean_test_score (+/- std_test_score) for {parameters..}\n",
      "\n",
      "0.708 (+/-0.138) for {'C': 1, 'gamma': 0.001, 'kernel': 'rbf'}\n",
      "0.688 (+/-0.109) for {'C': 1, 'gamma': 0.0001, 'kernel': 'rbf'}\n",
      "0.716 (+/-0.146) for {'C': 10, 'gamma': 0.001, 'kernel': 'rbf'}\n",
      "0.765 (+/-0.175) for {'C': 10, 'gamma': 0.0001, 'kernel': 'rbf'}\n",
      "0.767 (+/-0.143) for {'C': 100, 'gamma': 0.001, 'kernel': 'rbf'}\n",
      "0.843 (+/-0.097) for {'C': 100, 'gamma': 0.0001, 'kernel': 'rbf'}\n",
      "0.767 (+/-0.143) for {'C': 1000, 'gamma': 0.001, 'kernel': 'rbf'}\n",
      "0.824 (+/-0.129) for {'C': 1000, 'gamma': 0.0001, 'kernel': 'rbf'}\n",
      "0.956 (+/-0.064) for {'C': 1, 'kernel': 'linear'}\n",
      "0.956 (+/-0.064) for {'C': 10, 'kernel': 'linear'}\n",
      "0.956 (+/-0.064) for {'C': 100, 'kernel': 'linear'}\n",
      "0.956 (+/-0.064) for {'C': 1000, 'kernel': 'linear'}\n",
      "\n",
      "Detailed classification report:\n",
      "\n",
      "The model is trained on the full development set\n",
      "The scores are computed on the full evaluation set.\n",
      "\n",
      "              precision    recall  f1-score   support\n",
      "\n",
      "           1       0.96      1.00      0.98        23\n",
      "           2       0.95      0.95      0.95        19\n",
      "           3       1.00      0.92      0.96        12\n",
      "\n",
      "    accuracy                           0.96        54\n",
      "   macro avg       0.97      0.95      0.96        54\n",
      "weighted avg       0.96      0.96      0.96        54\n",
      "\n",
      "\n",
      "# Tuning hyper-parameters for <f1> -------------\n",
      "\n",
      "Best parameters set found on development set:\n",
      "\n",
      "{'C': 1, 'kernel': 'linear'}\n",
      "\n",
      "Grid scores on development set:\n",
      "mean_test_score (+/- std_test_score) for {parameters..}\n",
      "\n",
      "0.703 (+/-0.124) for {'C': 1, 'gamma': 0.001, 'kernel': 'rbf'}\n",
      "0.687 (+/-0.081) for {'C': 1, 'gamma': 0.0001, 'kernel': 'rbf'}\n",
      "0.716 (+/-0.129) for {'C': 10, 'gamma': 0.001, 'kernel': 'rbf'}\n",
      "0.762 (+/-0.163) for {'C': 10, 'gamma': 0.0001, 'kernel': 'rbf'}\n",
      "0.761 (+/-0.134) for {'C': 100, 'gamma': 0.001, 'kernel': 'rbf'}\n",
      "0.839 (+/-0.087) for {'C': 100, 'gamma': 0.0001, 'kernel': 'rbf'}\n",
      "0.761 (+/-0.134) for {'C': 1000, 'gamma': 0.001, 'kernel': 'rbf'}\n",
      "0.819 (+/-0.122) for {'C': 1000, 'gamma': 0.0001, 'kernel': 'rbf'}\n",
      "0.953 (+/-0.060) for {'C': 1, 'kernel': 'linear'}\n",
      "0.953 (+/-0.060) for {'C': 10, 'kernel': 'linear'}\n",
      "0.953 (+/-0.060) for {'C': 100, 'kernel': 'linear'}\n",
      "0.953 (+/-0.060) for {'C': 1000, 'kernel': 'linear'}\n",
      "\n",
      "Detailed classification report:\n",
      "\n",
      "The model is trained on the full development set\n",
      "The scores are computed on the full evaluation set.\n",
      "\n",
      "              precision    recall  f1-score   support\n",
      "\n",
      "           1       0.96      1.00      0.98        23\n",
      "           2       0.95      0.95      0.95        19\n",
      "           3       1.00      0.92      0.96        12\n",
      "\n",
      "    accuracy                           0.96        54\n",
      "   macro avg       0.97      0.95      0.96        54\n",
      "weighted avg       0.96      0.96      0.96        54\n",
      "\n",
      "\n"
     ]
    }
   ],
   "source": [
    "from sklearn.model_selection import GridSearchCV\n",
    "from sklearn.metrics import classification_report\n",
    "from sklearn.svm import SVC\n",
    "\n",
    "for score in scores:\n",
    "    print(\"# Tuning hyper-parameters for <%s> -------------\" % score)\n",
    "    print()\n",
    "    \n",
    "    clf = GridSearchCV(SVC(),tuned_parameters,cv = 5,\n",
    "                    scoring = '%s_macro' % score)\n",
    "    clf.fit(X_train,y_train)\n",
    "    \n",
    "    print(\"Best parameters set found on development set:\")\n",
    "    print()\n",
    "    print(clf.best_params_)\n",
    "    print()\n",
    "    print(\"Grid scores on development set:\")\n",
    "    print(\"mean_test_score (+/- std_test_score) for {parameters..}\")\n",
    "    print(\"\")\n",
    "    means = clf.cv_results_['mean_test_score']\n",
    "    stds = clf.cv_results_['std_test_score']\n",
    "    for mean,std,params in zip(means,stds,clf.cv_results_['params']):\n",
    "        print(\"%0.3f (+/-%0.03f) for %r\" % (mean,std*2,params))\n",
    "        \n",
    "    print()\n",
    "    \n",
    "    print(\"Detailed classification report:\")\n",
    "    print()\n",
    "    print(\"The model is trained on the full development set\")\n",
    "    print(\"The scores are computed on the full evaluation set.\")\n",
    "    print()\n",
    "    \n",
    "    y_true,y_pred = y_test,clf.predict(X_test)\n",
    "    print(classification_report(y_true,y_pred))\n",
    "    print()"
   ]
  },
  {
   "cell_type": "markdown",
   "metadata": {},
   "source": [
    "# Classifier comparison\n",
    "\n",
    "#### ref. https://machine-learning-python.kspax.io/Classification/ex4_Classifier_comparison.html"
   ]
  },
  {
   "cell_type": "code",
   "execution_count": 14,
   "metadata": {},
   "outputs": [],
   "source": [
    "h =0.2  ## step size in the mesh\n",
    "\n",
    "names = [\"Nearest Neighbors\", \"Linear SVM\", \"RBF SVM\", \"Decision Tree\",\n",
    "         \"Random Forest\", \"AdaBoost\", \"Naive Bayes\", \"Linear Discriminant Ana.\",\n",
    "         \"Quadratic Discriminant Ana.\", \"XGBoost\"]\n",
    "\n",
    "classifiers = [\n",
    "    KNeighborsClassifier(3),\n",
    "    SVC(kernel = 'linear',C = 0.025,probability = True),\n",
    "    SVC(kernel = 'rbf', C = 100, gamma = 0.001, probability = True),\n",
    "    DecisionTreeClassifier(max_depth = 5),\n",
    "    RandomForestClassifier(max_depth = 5,n_estimators = 10, max_features = 1),\n",
    "    AdaBoostClassifier(),\n",
    "    GaussianNB(),\n",
    "    LinearDiscriminantAnalysis(),\n",
    "    QuadraticDiscriminantAnalysis(),\n",
    "    XGBClassifier(n_estimators = 2000, max_depth = 4)]\n",
    "\n"
   ]
  },
  {
   "cell_type": "code",
   "execution_count": 15,
   "metadata": {},
   "outputs": [
    {
     "name": "stdout",
     "output_type": "stream",
     "text": [
      "'Nearest Neighbors' score: 0.9815\n",
      "              precision    recall  f1-score   support\n",
      "\n",
      "           1       0.96      1.00      0.98        23\n",
      "           2       1.00      0.95      0.97        19\n",
      "           3       1.00      1.00      1.00        12\n",
      "\n",
      "    accuracy                           0.98        54\n",
      "   macro avg       0.99      0.98      0.98        54\n",
      "weighted avg       0.98      0.98      0.98        54\n",
      "\n",
      "[3 2 1 2 1 3 2 1 3 2 1 1 2 1 2 2 3 1 2 1 1 2 3 1 1 3 1 1 1 3 2 3 3 1 2 2 2\n",
      " 2 2 1 1 2 3 1 1 1 2 1 1 1 2 3 3 1]\n",
      "------------------------------------------------------\n",
      "'Linear SVM' score: 1.0000\n",
      "              precision    recall  f1-score   support\n",
      "\n",
      "           1       1.00      1.00      1.00        23\n",
      "           2       1.00      1.00      1.00        19\n",
      "           3       1.00      1.00      1.00        12\n",
      "\n",
      "    accuracy                           1.00        54\n",
      "   macro avg       1.00      1.00      1.00        54\n",
      "weighted avg       1.00      1.00      1.00        54\n",
      "\n",
      "[3 2 1 2 1 3 2 1 3 2 1 1 2 1 2 2 3 1 2 1 1 2 3 2 1 3 1 1 1 3 2 3 3 1 2 2 2\n",
      " 2 2 1 1 2 3 1 1 1 2 1 1 1 2 3 3 1]\n",
      "------------------------------------------------------\n",
      "'RBF SVM' score: 0.9815\n",
      "              precision    recall  f1-score   support\n",
      "\n",
      "           1       1.00      1.00      1.00        23\n",
      "           2       0.95      1.00      0.97        19\n",
      "           3       1.00      0.92      0.96        12\n",
      "\n",
      "    accuracy                           0.98        54\n",
      "   macro avg       0.98      0.97      0.98        54\n",
      "weighted avg       0.98      0.98      0.98        54\n",
      "\n",
      "[3 2 1 2 1 3 2 1 3 2 1 1 2 1 2 2 3 1 2 1 1 2 2 2 1 3 1 1 1 3 2 3 3 1 2 2 2\n",
      " 2 2 1 1 2 3 1 1 1 2 1 1 1 2 3 3 1]\n",
      "------------------------------------------------------\n",
      "'Decision Tree' score: 0.9259\n",
      "              precision    recall  f1-score   support\n",
      "\n",
      "           1       0.95      0.91      0.93        23\n",
      "           2       0.89      0.89      0.89        19\n",
      "           3       0.92      1.00      0.96        12\n",
      "\n",
      "    accuracy                           0.93        54\n",
      "   macro avg       0.92      0.94      0.93        54\n",
      "weighted avg       0.93      0.93      0.93        54\n",
      "\n",
      "[3 2 1 2 1 3 2 1 3 2 1 2 2 1 2 2 3 1 2 1 1 2 3 1 1 3 1 1 1 3 2 3 3 1 2 2 2\n",
      " 2 2 1 1 3 3 2 1 1 2 1 1 1 2 3 3 1]\n",
      "------------------------------------------------------\n",
      "'Random Forest' score: 1.0000\n",
      "              precision    recall  f1-score   support\n",
      "\n",
      "           1       1.00      1.00      1.00        23\n",
      "           2       1.00      1.00      1.00        19\n",
      "           3       1.00      1.00      1.00        12\n",
      "\n",
      "    accuracy                           1.00        54\n",
      "   macro avg       1.00      1.00      1.00        54\n",
      "weighted avg       1.00      1.00      1.00        54\n",
      "\n",
      "[3 2 1 2 1 3 2 1 3 2 1 1 2 1 2 2 3 1 2 1 1 2 3 2 1 3 1 1 1 3 2 3 3 1 2 2 2\n",
      " 2 2 1 1 2 3 1 1 1 2 1 1 1 2 3 3 1]\n",
      "------------------------------------------------------\n",
      "'AdaBoost' score: 0.5370\n",
      "              precision    recall  f1-score   support\n",
      "\n",
      "           1       0.00      0.00      0.00        23\n",
      "           2       0.42      0.89      0.58        19\n",
      "           3       0.86      1.00      0.92        12\n",
      "\n",
      "    accuracy                           0.54        54\n",
      "   macro avg       0.43      0.63      0.50        54\n",
      "weighted avg       0.34      0.54      0.41        54\n",
      "\n",
      "[3 2 2 2 2 3 2 2 3 2 2 2 2 2 2 2 3 2 2 2 2 3 3 2 2 3 2 2 2 3 2 3 3 2 2 2 2\n",
      " 2 2 2 2 3 3 2 2 2 2 2 2 2 2 3 3 2]\n",
      "------------------------------------------------------\n",
      "'Naive Bayes' score: 0.9815\n",
      "              precision    recall  f1-score   support\n",
      "\n",
      "           1       0.96      1.00      0.98        23\n",
      "           2       1.00      0.95      0.97        19\n",
      "           3       1.00      1.00      1.00        12\n",
      "\n",
      "    accuracy                           0.98        54\n",
      "   macro avg       0.99      0.98      0.98        54\n",
      "weighted avg       0.98      0.98      0.98        54\n",
      "\n",
      "[3 2 1 2 1 3 2 1 3 2 1 1 2 1 2 2 3 1 2 1 1 2 3 1 1 3 1 1 1 3 2 3 3 1 2 2 2\n",
      " 2 2 1 1 2 3 1 1 1 2 1 1 1 2 3 3 1]\n",
      "------------------------------------------------------\n",
      "'Linear Discriminant Ana.' score: 1.0000\n",
      "              precision    recall  f1-score   support\n",
      "\n",
      "           1       1.00      1.00      1.00        23\n",
      "           2       1.00      1.00      1.00        19\n",
      "           3       1.00      1.00      1.00        12\n",
      "\n",
      "    accuracy                           1.00        54\n",
      "   macro avg       1.00      1.00      1.00        54\n",
      "weighted avg       1.00      1.00      1.00        54\n",
      "\n",
      "[3 2 1 2 1 3 2 1 3 2 1 1 2 1 2 2 3 1 2 1 1 2 3 2 1 3 1 1 1 3 2 3 3 1 2 2 2\n",
      " 2 2 1 1 2 3 1 1 1 2 1 1 1 2 3 3 1]\n",
      "------------------------------------------------------\n",
      "'Quadratic Discriminant Ana.' score: 0.9815\n",
      "              precision    recall  f1-score   support\n",
      "\n",
      "           1       0.96      1.00      0.98        23\n",
      "           2       1.00      0.95      0.97        19\n",
      "           3       1.00      1.00      1.00        12\n",
      "\n",
      "    accuracy                           0.98        54\n",
      "   macro avg       0.99      0.98      0.98        54\n",
      "weighted avg       0.98      0.98      0.98        54\n",
      "\n",
      "[3 2 1 2 1 3 2 1 3 2 1 1 2 1 2 2 3 1 2 1 1 2 3 2 1 3 1 1 1 3 2 3 3 1 2 2 2\n",
      " 1 2 1 1 2 3 1 1 1 2 1 1 1 2 3 3 1]\n",
      "------------------------------------------------------\n",
      "'XGBoost' score: 0.9630\n",
      "              precision    recall  f1-score   support\n",
      "\n",
      "           1       0.92      1.00      0.96        23\n",
      "           2       1.00      0.89      0.94        19\n",
      "           3       1.00      1.00      1.00        12\n",
      "\n",
      "    accuracy                           0.96        54\n",
      "   macro avg       0.97      0.96      0.97        54\n",
      "weighted avg       0.97      0.96      0.96        54\n",
      "\n",
      "[3 2 1 2 1 3 2 1 3 2 1 1 2 1 2 2 3 1 2 1 1 2 3 1 1 3 1 1 1 3 2 3 3 1 2 2 2\n",
      " 1 2 1 1 2 3 1 1 1 2 1 1 1 2 3 3 1]\n",
      "------------------------------------------------------\n"
     ]
    }
   ],
   "source": [
    "### iterate over classifiers\n",
    "\n",
    "for name, clf in zip(names,classifiers):\n",
    "    clf.fit(X_train_std,y_train)\n",
    "    scores = clf.score(X_test_std,y_test)\n",
    "    print(\"%r score: %0.04f\" % (name,scores))\n",
    "    \n",
    "    y_true,y_pred = y_test,clf.predict(X_test_std)\n",
    "    print(classification_report(y_true,y_pred))\n",
    "    print(clf.predict(X_test_std))\n",
    "    print(\"------------------------------------------------------\")"
   ]
  },
  {
   "cell_type": "markdown",
   "metadata": {},
   "source": [
    "## Use stacking to combine different model"
   ]
  },
  {
   "cell_type": "code",
   "execution_count": 16,
   "metadata": {},
   "outputs": [
    {
     "name": "stdout",
     "output_type": "stream",
     "text": [
      "KNN score: 0.9814814814814815\n",
      "RF score: 0.9814814814814815\n",
      "GNB score: 0.9814814814814815\n",
      "SVC score: 0.9814814814814815\n",
      "Adaboost score: 0.5370370370370371\n",
      "L-Discr score: 1.0\n",
      "Q-Discr score: 0.9814814814814815\n",
      "XGBOOST score: 0.9629629629629629\n",
      "Stacking score: 0.9814814814814815\n",
      "---------------------------------------------------\n",
      "[3 2 1 2 1 3 2 1 3 2 1 1 2 1 2 2 3 1 2 1 1 2 3 1 1 3 1 1 1 3 2 3 3 1 2 2 2\n",
      " 2 2 1 1 2 3 1 1 1 2 1 1 1 2 3 3 1]\n"
     ]
    }
   ],
   "source": [
    "clf1 = KNeighborsClassifier(n_neighbors = 3, weights = 'uniform')\n",
    "clf2 = RandomForestClassifier(n_estimators = 500,criterion = 'gini',max_features = 'auto',oob_score = True)\n",
    "clf3 = GaussianNB()\n",
    "clf4 = SVC(kernel = 'rbf', C =100,gamma = 0.001,probability = True)\n",
    "clf5 = AdaBoostClassifier()\n",
    "clf6 = LinearDiscriminantAnalysis()\n",
    "clf7 = QuadraticDiscriminantAnalysis()\n",
    "clf8 = xgb.XGBClassifier(n_estimators = 2000, max_depth = 4)\n",
    "meta_clf = LinearDiscriminantAnalysis()\n",
    "\n",
    "stacking_clf1 = StackingClassifier(classifiers = [clf1,clf2,clf3,clf4,clf5,clf6,clf7,clf8],meta_classifier = meta_clf)\n",
    "\n",
    "clf1.fit(X_train_std,y_train)\n",
    "clf2.fit(X_train_std,y_train)\n",
    "clf3.fit(X_train_std,y_train)\n",
    "clf4.fit(X_train_std,y_train)\n",
    "clf5.fit(X_train_std,y_train)\n",
    "clf6.fit(X_train_std,y_train)\n",
    "clf7.fit(X_train_std,y_train)\n",
    "clf8.fit(X_train_std,y_train)\n",
    "stacking_clf1.fit(X_train_std,y_train)\n",
    "\n",
    "print('KNN score:',clf1.score(X_test_std,y_test))\n",
    "print('RF score:',clf2.score(X_test_std,y_test))\n",
    "print('GNB score:',clf3.score(X_test_std,y_test))\n",
    "print('SVC score:',clf4.score(X_test_std,y_test))\n",
    "print('Adaboost score:',clf5.score(X_test_std,y_test))\n",
    "print('L-Discr score:',clf6.score(X_test_std,y_test))\n",
    "print('Q-Discr score:',clf7.score(X_test_std,y_test))\n",
    "print('XGBOOST score:',clf8.score(X_test_std,y_test))\n",
    "print('Stacking score:',stacking_clf1.score(X_test_std,y_test))\n",
    "print(\"---------------------------------------------------\")\n",
    "print(stacking_clf1.predict(X_test_std))"
   ]
  },
  {
   "cell_type": "markdown",
   "metadata": {},
   "source": [
    "## 比賽時  挑出表現較好的做Ensemble\n",
    "#### (使用Voting 當example)"
   ]
  },
  {
   "cell_type": "code",
   "execution_count": 17,
   "metadata": {},
   "outputs": [
    {
     "name": "stdout",
     "output_type": "stream",
     "text": [
      "              precision    recall  f1-score   support\n",
      "\n",
      "           1       0.96      1.00      0.98        23\n",
      "           2       1.00      0.95      0.97        19\n",
      "           3       1.00      1.00      1.00        12\n",
      "\n",
      "    accuracy                           0.98        54\n",
      "   macro avg       0.99      0.98      0.98        54\n",
      "weighted avg       0.98      0.98      0.98        54\n",
      "\n",
      "--------------------------------------------------------------\n",
      "[3 2 1 2 1 3 2 1 3 2 1 1 2 1 2 2 3 1 2 1 1 2 3 2 1 3 1 1 1 3 2 3 3 1 2 2 2\n",
      " 1 2 1 1 2 3 1 1 1 2 1 1 1 2 3 3 1]\n"
     ]
    }
   ],
   "source": [
    "from sklearn.ensemble import VotingClassifier\n",
    "from sklearn.discriminant_analysis import LinearDiscriminantAnalysis\n",
    "from sklearn.discriminant_analysis import QuadraticDiscriminantAnalysis\n",
    "import xgboost as xgb\n",
    "\n",
    "clf1 = LinearDiscriminantAnalysis()\n",
    "clf2 = QuadraticDiscriminantAnalysis()\n",
    "clf3 = xgb.XGBClassifier(n_estimators = 2000, max_depth = 4)\n",
    "\n",
    "eclf2 = VotingClassifier(estimators = [('Lda', clf1),('Qda',clf2),('XGB',clf3)]\n",
    "                        ,voting = 'hard',weights = [1,1,1])\n",
    "\n",
    "eclf2.fit(X_train_std,y_train)\n",
    "\n",
    "print(metrics.classification_report(y_test,eclf2.predict(X_test_std)))\n",
    "print(\"--------------------------------------------------------------\")\n",
    "print(eclf2.predict(X_test_std))"
   ]
  },
  {
   "cell_type": "markdown",
   "metadata": {},
   "source": [
    "# Learning Curve\n",
    "\n",
    "- Deal with overfitting\n",
    "\n",
    "<p> A learning curve shows the validation and training score of an estimator for varying numbers of training samples. It is a tool to find out how much we benefit from adding more training data and whether the estimator suffers more from a variance error or a bias error. If both the validation score and the training score converge to a value that is too low with increasing size of the training set, we will not benefit much from more training data. In the following plot you can see an example: naive Bayes roughly converges to a low score. </p>\n",
    "\n",
    "- cv parameters can be integer or generator (KFold)\n",
    "\n",
    "### KFold(n_splits ,random_state,shuffle)\n",
    "\n",
    "- Provides train/test indices to split data in train/test sets. Split dataset into k consecutive folds (without shuffling by default).\n",
    "\n",
    "- This is a gnenrator object\n",
    "\n"
   ]
  },
  {
   "cell_type": "code",
   "execution_count": 18,
   "metadata": {},
   "outputs": [
    {
     "name": "stdout",
     "output_type": "stream",
     "text": [
      "Automatically created module for IPython interactive environment\n"
     ]
    }
   ],
   "source": [
    "print(__doc__)\n",
    "\n",
    "from sklearn.model_selection import learning_curve\n",
    "from sklearn.model_selection import ShuffleSplit\n",
    "### cv can be generator\n",
    "\n",
    "def plot_learning_curve(estimator, title,X,y,ylim = None,cv = None,\n",
    "                       n_jobs = -1,train_sizes = np.linspace(0.1,1.0,5)):\n",
    "    \n",
    "    plt.figure(figsize = (10,6))\n",
    "    plt.title(title)\n",
    "    if ylim is not None:\n",
    "        plt.ylim(*ylim)\n",
    "        \n",
    "    plt.xlabel(\"Training examples\")\n",
    "    plt.ylabel(\"Score\")\n",
    "    \n",
    "    train_sizes, train_scores, test_scores = learning_curve(\n",
    "    estimator,X,y,cv = cv,n_jobs = n_jobs, train_sizes = train_sizes)\n",
    "    \n",
    "    train_scores_mean = np.mean(train_scores,axis = 1)\n",
    "    train_scores_std = np.std(train_scores,axis = 1)\n",
    "    test_scores_mean = np.mean(test_scores,axis = 1)\n",
    "    test_scores_std = np.std(test_scores,axis = 1)\n",
    "    plt.grid()\n",
    "    plt.fill_between(train_sizes,train_scores_mean-train_scores_std,\n",
    "                     train_scores_mean+train_scores_std,alpha = 0.1)\n",
    "    plt.fill_between(train_sizes,test_scores_mean-test_scores_std,\n",
    "                    test_scores_mean+test_scores_std,alpha = 0.1)\n",
    "    \n",
    "    plt.plot(train_sizes,train_scores_mean,'o-',color = \"r\",\n",
    "            label = \"Training score\")\n",
    "    \n",
    "    plt.plot(train_sizes,test_scores_mean,'o-',color = \"g\",\n",
    "            label=\"Cross-validation score\")\n",
    "    \n",
    "    plt.legend(loc = 'best')\n",
    "    \n",
    "    return plt\n",
    "    \n"
   ]
  },
  {
   "cell_type": "code",
   "execution_count": 19,
   "metadata": {
    "scrolled": true
   },
   "outputs": [
    {
     "data": {
      "text/plain": [
       "<module 'matplotlib.pyplot' from 'F:\\\\Programming\\\\Aanconda\\\\lib\\\\site-packages\\\\matplotlib\\\\pyplot.py'>"
      ]
     },
     "execution_count": 19,
     "metadata": {},
     "output_type": "execute_result"
    },
    {
     "data": {
      "image/png": "[encoded data removed]",
      "text/plain": [
       "<Figure size 720x432 with 1 Axes>"
      ]
     },
     "metadata": {
      "needs_background": "light"
     },
     "output_type": "display_data"
    }
   ],
   "source": [
    "from sklearn.model_selection import KFold\n",
    "\n",
    "cv = KFold(n_splits = 10,random_state = None,shuffle = True)\n",
    "estimator = SVC(C = 0.1,kernel = 'rbf',probability = True)\n",
    "%matplotlib inline\n",
    "plot_learning_curve(estimator,\"SVM\",X_train_std,y_train,cv = cv,train_sizes = np.linspace(0.2,1.0,5))"
   ]
  },
  {
   "cell_type": "code",
   "execution_count": 20,
   "metadata": {},
   "outputs": [
    {
     "data": {
      "text/plain": [
       "<module 'matplotlib.pyplot' from 'F:\\\\Programming\\\\Aanconda\\\\lib\\\\site-packages\\\\matplotlib\\\\pyplot.py'>"
      ]
     },
     "execution_count": 20,
     "metadata": {},
     "output_type": "execute_result"
    },
    {
     "data": {
      "image/png": "[encoded data removed]",
      "text/plain": [
       "<Figure size 720x432 with 1 Axes>"
      ]
     },
     "metadata": {
      "needs_background": "light"
     },
     "output_type": "display_data"
    }
   ],
   "source": [
    "cv = KFold(n_splits = 10,random_state = None,shuffle = True)\n",
    "estimator = xgb.XGBClassifier(n_estimators = 2000,max_depth = 4)\n",
    "\n",
    "plot_learning_curve(estimator, \"XGBoost\",X_train_std,y_train,cv = cv,train_sizes = np.linspace(0.2,1.0,5))"
   ]
  },
  {
   "cell_type": "code",
   "execution_count": 21,
   "metadata": {},
   "outputs": [
    {
     "data": {
      "text/plain": [
       "<module 'matplotlib.pyplot' from 'F:\\\\Programming\\\\Aanconda\\\\lib\\\\site-packages\\\\matplotlib\\\\pyplot.py'>"
      ]
     },
     "execution_count": 21,
     "metadata": {},
     "output_type": "execute_result"
    },
    {
     "data": {
      "image/png": "[encoded data removed]",
      "text/plain": [
       "<Figure size 720x432 with 1 Axes>"
      ]
     },
     "metadata": {
      "needs_background": "light"
     },
     "output_type": "display_data"
    }
   ],
   "source": [
    "cv = KFold(n_splits = 10,random_state = None,shuffle = True)\n",
    "estimator = eclf2\n",
    "plot_learning_curve(estimator,\"Voting group 1\",X_train_std, y_train,cv = cv,train_sizes = np.linspace(0.2,1.0,5))"
   ]
  },
  {
   "cell_type": "markdown",
   "metadata": {},
   "source": [
    "### Use Deep Learning to train (optional)"
   ]
  },
  {
   "cell_type": "code",
   "execution_count": 17,
   "metadata": {},
   "outputs": [
    {
     "name": "stderr",
     "output_type": "stream",
     "text": [
      "Using TensorFlow backend.\n"
     ]
    }
   ],
   "source": [
    "from keras.datasets import mnist\n",
    "from keras.utils import np_utils\n",
    "from keras.models import Sequential\n",
    "from keras.layers import Dense, Dropout, Activation, Flatten\n",
    "\n",
    "def create_model(optimizer='adam', init='normal'):\n",
    "    model = Sequential()\n",
    "    model.add(Dense(512, input_dim=13, activation='relu', kernel_initializer=init))\n",
    "    #model.add(Dropout(0.5))\n",
    "    model.add(Dense(256, activation='relu', kernel_initializer=init))\n",
    "    model.add(Dense(64, activation='relu', kernel_initializer=init))\n",
    "    model.add(Dense(3, activation='softmax', kernel_initializer=init))\n",
    "    model.compile(optimizer=optimizer, loss='categorical_crossentropy', metrics=['accuracy'])\n",
    "    return model\n",
    "    "
   ]
  },
  {
   "cell_type": "code",
   "execution_count": 18,
   "metadata": {},
   "outputs": [
    {
     "data": {
      "text/plain": [
       "'\\nfrom sklearn.model_selection import GridSearchCV\\nfrom keras.wrappers.scikit_learn import KerasClassifier\\n\\nmodel = KerasClassifier(build_fn = create_model,verbose = 0)\\n\\noptimizers = [\\'rmsprop\\',\\'adam\\']\\ninit = [\\'glorot_uniform\\',\\'normal\\',\\'uniform\\']\\nepochs = [10,20,50]\\nbatches = [5,10,20]\\n\\nparam_grid = dict(optimizer = optimizers,epochs = epochs,batch_size = batches, init = init)\\ngrid = GridSearchCV(estimator = model,param_grid = param_grid)\\ngrid_result = grid.fit(X_train_std,y_train)\\n\\nprint(\"Best: %f using %s\" % (grid_result.best_score_,grid_result.best_params_))\\n\\nmeans = grid_result.cv_results_[\\'mean_test_score\\']\\nstds = grid_result.cv_results_[\\'std_test_score\\']\\nparams = grid_result.cv_results_[\\'params\\']\\n\\nfor mean, stdev, param in zip(means,stds,params):\\n    print(\"%f (%f) with: %r\" % (mean,stdev,param))\\n    \\n    '"
      ]
     },
     "execution_count": 18,
     "metadata": {},
     "output_type": "execute_result"
    }
   ],
   "source": [
    "'''\n",
    "from sklearn.model_selection import GridSearchCV\n",
    "from keras.wrappers.scikit_learn import KerasClassifier\n",
    "\n",
    "model = KerasClassifier(build_fn = create_model,verbose = 0)\n",
    "\n",
    "optimizers = ['rmsprop','adam']\n",
    "init = ['glorot_uniform','normal','uniform']\n",
    "epochs = [10,20,50]\n",
    "batches = [5,10,20]\n",
    "\n",
    "param_grid = dict(optimizer = optimizers,epochs = epochs,batch_size = batches, init = init)\n",
    "grid = GridSearchCV(estimator = model,param_grid = param_grid)\n",
    "grid_result = grid.fit(X_train_std,y_train)\n",
    "\n",
    "print(\"Best: %f using %s\" % (grid_result.best_score_,grid_result.best_params_))\n",
    "\n",
    "means = grid_result.cv_results_['mean_test_score']\n",
    "stds = grid_result.cv_results_['std_test_score']\n",
    "params = grid_result.cv_results_['params']\n",
    "\n",
    "for mean, stdev, param in zip(means,stds,params):\n",
    "    print(\"%f (%f) with: %r\" % (mean,stdev,param))\n",
    "    \n",
    "    '''"
   ]
  },
  {
   "cell_type": "markdown",
   "metadata": {},
   "source": [
    "## Use best setting \n",
    "\n",
    "- Best: 0.983871 using {'init': 'glorot_uniform', 'optimizer': 'adam', 'epochs': 10, 'batch_size': 20}"
   ]
  },
  {
   "cell_type": "code",
   "execution_count": null,
   "metadata": {
    "collapsed": true
   },
   "outputs": [],
   "source": [
    "def c_model(optimizer = 'adam', init = 'glorot_uniform'):\n",
    "    model = Sequential()\n",
    "    model.add(Dense(512,input_dim = 13,activation = 'relu',kernel_initializer = init))\n",
    "    model.add(Dense(256,activation = 'relu', kernel_initializer = init))\n",
    "    model.add(Dense(64,activation = 'relu', kernel_initializer = init))\n",
    "    model.add(Dense(3,activation = 'softmax',kernel_initializer = init))\n",
    "    model.compile(optimizer = optimizer,loss = 'categorical_crossentropy',metrics = ['accuracy'])\n",
    "    \n",
    "    return model\n"
   ]
  },
  {
   "cell_type": "code",
   "execution_count": null,
   "metadata": {},
   "outputs": [],
   "source": [
    "from keras.wrappers.scikit_learn import KerasClassifier\n",
    "from sklearn.model_selection import KFold\n",
    "\n",
    "cv = KFold(n_splits=10, random_state=None, shuffle=True)\n",
    "estimator = KerasClassifier(build_fn=c_model, nb_epoch=20, batch_size=5,verbose = True)\n",
    "\n",
    "plot_learning_curve(estimator, \"MLP with Keras\", X_train_std, y_train, cv=cv, train_sizes=np.linspace(0.2, 1.0, 5),)"
   ]
  },
  {
   "cell_type": "code",
   "execution_count": null,
   "metadata": {
    "collapsed": true
   },
   "outputs": [],
   "source": []
  },
  {
   "cell_type": "code",
   "execution_count": null,
   "metadata": {
    "collapsed": true
   },
   "outputs": [],
   "source": []
  },
  {
   "cell_type": "code",
   "execution_count": null,
   "metadata": {
    "collapsed": true
   },
   "outputs": [],
   "source": []
  },
  {
   "cell_type": "code",
   "execution_count": null,
   "metadata": {
    "collapsed": true
   },
   "outputs": [],
   "source": []
  }
 ],
 "metadata": {
  "anaconda-cloud": {},
  "kernelspec": {
   "display_name": "Python 3",
   "language": "python",
   "name": "python3"
  },
  "language_info": {
   "codemirror_mode": {
    "name": "ipython",
    "version": 3
   },
   "file_extension": ".py",
   "mimetype": "text/x-python",
   "name": "python",
   "nbconvert_exporter": "python",
   "pygments_lexer": "ipython3",
   "version": "3.6.5"
  }
 },
 "nbformat": 4,
 "nbformat_minor": 2
}
