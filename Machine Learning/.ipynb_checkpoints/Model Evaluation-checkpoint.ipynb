{
 "cells": [
  {
   "cell_type": "markdown",
   "metadata": {},
   "source": [
    "## Model Evaluation\n",
    "\n",
    "1. Cross Validation\n",
    "2. Learning Curve\n",
    "3. Validation Curve\n",
    "4. GridSearch\n",
    "5. Performance Metrics\n",
    "\n",
    "Optional: ROC AUC Curve"
   ]
  },
  {
   "cell_type": "code",
   "execution_count": 27,
   "metadata": {},
   "outputs": [],
   "source": [
    "import pandas as pd\n",
    "import numpy as np\n",
    "from sklearn.model_selection import cross_val_score, train_test_split\n",
    "from sklearn import metrics\n",
    "import matplotlib.pyplot as plt\n",
    "from sklearn.model_selection import learning_curve,validation_curve ,GridSearchCV\n",
    "from sklearn.svm import SVC\n",
    "%matplotlib inline"
   ]
  },
  {
   "cell_type": "markdown",
   "metadata": {},
   "source": [
    "## Data Preprocessing"
   ]
  },
  {
   "cell_type": "code",
   "execution_count": 2,
   "metadata": {},
   "outputs": [
    {
     "name": "stdout",
     "output_type": "stream",
     "text": [
      "Class labels [1 2 3]\n"
     ]
    },
    {
     "data": {
      "text/html": [
       "<div>\n",
       "<style scoped>\n",
       "    .dataframe tbody tr th:only-of-type {\n",
       "        vertical-align: middle;\n",
       "    }\n",
       "\n",
       "    .dataframe tbody tr th {\n",
       "        vertical-align: top;\n",
       "    }\n",
       "\n",
       "    .dataframe thead th {\n",
       "        text-align: right;\n",
       "    }\n",
       "</style>\n",
       "<table border=\"1\" class=\"dataframe\">\n",
       "  <thead>\n",
       "    <tr style=\"text-align: right;\">\n",
       "      <th></th>\n",
       "      <th>Class label</th>\n",
       "      <th>Alcohol</th>\n",
       "      <th>Malic acid</th>\n",
       "      <th>Ash</th>\n",
       "      <th>Alcalinity of ash</th>\n",
       "      <th>Magnesium</th>\n",
       "      <th>Total phenols</th>\n",
       "      <th>Flavanoids</th>\n",
       "      <th>Nonflavanoid phenols</th>\n",
       "      <th>Proanthocyanins</th>\n",
       "      <th>Color intensity</th>\n",
       "      <th>Hue</th>\n",
       "      <th>OD280/OD315 of diluted wines</th>\n",
       "      <th>Proline</th>\n",
       "    </tr>\n",
       "  </thead>\n",
       "  <tbody>\n",
       "    <tr>\n",
       "      <th>0</th>\n",
       "      <td>1</td>\n",
       "      <td>14.23</td>\n",
       "      <td>1.71</td>\n",
       "      <td>2.43</td>\n",
       "      <td>15.6</td>\n",
       "      <td>127</td>\n",
       "      <td>2.80</td>\n",
       "      <td>3.06</td>\n",
       "      <td>0.28</td>\n",
       "      <td>2.29</td>\n",
       "      <td>5.64</td>\n",
       "      <td>1.04</td>\n",
       "      <td>3.92</td>\n",
       "      <td>1065</td>\n",
       "    </tr>\n",
       "    <tr>\n",
       "      <th>1</th>\n",
       "      <td>1</td>\n",
       "      <td>13.20</td>\n",
       "      <td>1.78</td>\n",
       "      <td>2.14</td>\n",
       "      <td>11.2</td>\n",
       "      <td>100</td>\n",
       "      <td>2.65</td>\n",
       "      <td>2.76</td>\n",
       "      <td>0.26</td>\n",
       "      <td>1.28</td>\n",
       "      <td>4.38</td>\n",
       "      <td>1.05</td>\n",
       "      <td>3.40</td>\n",
       "      <td>1050</td>\n",
       "    </tr>\n",
       "    <tr>\n",
       "      <th>2</th>\n",
       "      <td>1</td>\n",
       "      <td>13.16</td>\n",
       "      <td>2.36</td>\n",
       "      <td>2.67</td>\n",
       "      <td>18.6</td>\n",
       "      <td>101</td>\n",
       "      <td>2.80</td>\n",
       "      <td>3.24</td>\n",
       "      <td>0.30</td>\n",
       "      <td>2.81</td>\n",
       "      <td>5.68</td>\n",
       "      <td>1.03</td>\n",
       "      <td>3.17</td>\n",
       "      <td>1185</td>\n",
       "    </tr>\n",
       "    <tr>\n",
       "      <th>3</th>\n",
       "      <td>1</td>\n",
       "      <td>14.37</td>\n",
       "      <td>1.95</td>\n",
       "      <td>2.50</td>\n",
       "      <td>16.8</td>\n",
       "      <td>113</td>\n",
       "      <td>3.85</td>\n",
       "      <td>3.49</td>\n",
       "      <td>0.24</td>\n",
       "      <td>2.18</td>\n",
       "      <td>7.80</td>\n",
       "      <td>0.86</td>\n",
       "      <td>3.45</td>\n",
       "      <td>1480</td>\n",
       "    </tr>\n",
       "    <tr>\n",
       "      <th>4</th>\n",
       "      <td>1</td>\n",
       "      <td>13.24</td>\n",
       "      <td>2.59</td>\n",
       "      <td>2.87</td>\n",
       "      <td>21.0</td>\n",
       "      <td>118</td>\n",
       "      <td>2.80</td>\n",
       "      <td>2.69</td>\n",
       "      <td>0.39</td>\n",
       "      <td>1.82</td>\n",
       "      <td>4.32</td>\n",
       "      <td>1.04</td>\n",
       "      <td>2.93</td>\n",
       "      <td>735</td>\n",
       "    </tr>\n",
       "  </tbody>\n",
       "</table>\n",
       "</div>"
      ],
      "text/plain": [
       "   Class label  Alcohol  Malic acid   Ash  Alcalinity of ash  Magnesium  \\\n",
       "0            1    14.23        1.71  2.43               15.6        127   \n",
       "1            1    13.20        1.78  2.14               11.2        100   \n",
       "2            1    13.16        2.36  2.67               18.6        101   \n",
       "3            1    14.37        1.95  2.50               16.8        113   \n",
       "4            1    13.24        2.59  2.87               21.0        118   \n",
       "\n",
       "   Total phenols  Flavanoids  Nonflavanoid phenols  Proanthocyanins  \\\n",
       "0           2.80        3.06                  0.28             2.29   \n",
       "1           2.65        2.76                  0.26             1.28   \n",
       "2           2.80        3.24                  0.30             2.81   \n",
       "3           3.85        3.49                  0.24             2.18   \n",
       "4           2.80        2.69                  0.39             1.82   \n",
       "\n",
       "   Color intensity   Hue  OD280/OD315 of diluted wines  Proline  \n",
       "0             5.64  1.04                          3.92     1065  \n",
       "1             4.38  1.05                          3.40     1050  \n",
       "2             5.68  1.03                          3.17     1185  \n",
       "3             7.80  0.86                          3.45     1480  \n",
       "4             4.32  1.04                          2.93      735  "
      ]
     },
     "execution_count": 2,
     "metadata": {},
     "output_type": "execute_result"
    }
   ],
   "source": [
    "### Read Datset  \n",
    "\n",
    "\n",
    "df_wine = pd.read_csv('https://archive.ics.uci.edu/'\n",
    "                      'ml/machine-learning-databases/wine/wine.data',\n",
    "                      header=None)\n",
    "\n",
    "df_wine.columns = ['Class label', 'Alcohol', 'Malic acid', 'Ash',\n",
    "                   'Alcalinity of ash', 'Magnesium', 'Total phenols',\n",
    "                   'Flavanoids', 'Nonflavanoid phenols', 'Proanthocyanins',\n",
    "                   'Color intensity', 'Hue', 'OD280/OD315 of diluted wines',\n",
    "                   'Proline']\n",
    "\n",
    "print('Class labels', np.unique(df_wine['Class label']))\n",
    "\n",
    "\n",
    "\n",
    "#### df[row,column]\n",
    "\n",
    "X, y = df_wine.iloc[:, 1:].values, df_wine.iloc[:, 0].values\n",
    "\n",
    "X_train, X_test, y_train,y_test = train_test_split(X,y,test_size = 0.3, random_state = 0)\n",
    "\n",
    "#### Standardize  ###\n",
    "\n",
    "#### Standardize can make learning converge faster and avoid weights too large or too small   ###\n",
    "\n",
    "from sklearn.preprocessing import StandardScaler\n",
    "\n",
    "sc = StandardScaler()\n",
    "\n",
    "##### Fit training set\n",
    "sc.fit(X_train)\n",
    "\n",
    "####  Use same fitted Scaler to training and testing\n",
    "\n",
    "X_train_std = sc.transform(X_train)\n",
    "X_test_std = sc.transform(X_test)\n",
    "\n",
    "df_wine.head()"
   ]
  },
  {
   "cell_type": "markdown",
   "metadata": {},
   "source": [
    "## K-Fold Corss Validation\n",
    "\n",
    "\n",
    "當cv = int or None時, 自動套用 StratifiedKFold\n",
    "\n",
    "\n",
    "reference:\n",
    "https://scikit-learn.org/stable/modules/generated/sklearn.model_selection.cross_val_score.html\n",
    "https://www.itread01.com/content/1541250025.html\n",
    "\n",
    "\n"
   ]
  },
  {
   "cell_type": "code",
   "execution_count": 3,
   "metadata": {},
   "outputs": [
    {
     "name": "stdout",
     "output_type": "stream",
     "text": [
      "CV Accuracy: 0.97 (+/- 0.03)\n",
      "Scores for each fold: [0.96       0.96       1.         1.         0.91666667]\n"
     ]
    }
   ],
   "source": [
    "from sklearn.linear_model import LogisticRegression\n",
    "\n",
    "lr = LogisticRegression(penalty = 'l1',C = 0.1,multi_class = 'ovr',solver='liblinear')\n",
    "lr.fit(X_train_std,y_train)\n",
    "\n",
    "scores = cross_val_score(estimator =lr,X =  X_train_std,y =  y_train, cv=5, scoring='accuracy',n_jobs = -1)\n",
    "\n",
    "print (\"CV Accuracy: %.2f (+/- %.2f)\" %(scores.mean(), scores.std()))\n",
    "print(\"Scores for each fold:\",scores)"
   ]
  },
  {
   "cell_type": "markdown",
   "metadata": {},
   "source": [
    "## Learning Curve\n",
    "\n",
    "- Used to evaluate bias and variance\n",
    "- Default cv: Straitified KFold\n",
    "\n",
    "Source code can be found from python machine learning p.175"
   ]
  },
  {
   "cell_type": "code",
   "execution_count": 4,
   "metadata": {},
   "outputs": [
    {
     "data": {
      "image/png": "[encoded data removed]",
      "text/plain": [
       "<Figure size 432x288 with 1 Axes>"
      ]
     },
     "metadata": {
      "needs_background": "light"
     },
     "output_type": "display_data"
    }
   ],
   "source": [
    "\n",
    "\n",
    "train_sizes,train_scores,test_scores = learning_curve(estimator = lr,\n",
    "                                                     X = X_train_std,\n",
    "                                                     y = y_train,\n",
    "                                                     train_sizes = np.linspace(0.1,1.0,10),\n",
    "                                                     cv = 10,\n",
    "                                                     n_jobs = -1)\n",
    "\n",
    "train_mean = np.mean(train_scores,axis = 1)\n",
    "train_std = np.std(train_scores,axis = 1)\n",
    "test_mean = np.mean(test_scores,axis = 1)\n",
    "test_std = np.std(test_scores,axis = 1)\n",
    "\n",
    "plt.plot(train_sizes, train_mean,\n",
    "        color  ='blue', marker = 'o',\n",
    "        markersize = 5,\n",
    "        label = 'Training Accuracy')\n",
    "\n",
    "plt.fill_between(train_sizes,\n",
    "                train_mean+train_std,\n",
    "                train_mean-train_std,\n",
    "                alpha = 0.15,color = 'blue')\n",
    "\n",
    "\n",
    "plt.plot(train_sizes,test_mean,color ='green',\n",
    "         linestyle = '--', marker = 's',markersize = 5,\n",
    "         label = 'Validation Accuracy')\n",
    "\n",
    "plt.fill_between(train_sizes,\n",
    "                test_mean+test_std,\n",
    "                test_mean-test_std,\n",
    "                alpha = 0.15,color = 'green')\n",
    "\n",
    "plt.grid()\n",
    "plt.xlabel('Number of training samples')\n",
    "plt.ylabel('Accuracy')\n",
    "plt.legend(loc = 'lower right')\n",
    "plt.ylim([0.5,1.0])\n",
    "plt.show()"
   ]
  },
  {
   "cell_type": "code",
   "execution_count": null,
   "metadata": {},
   "outputs": [],
   "source": [
    "### Validation Curve\n",
    "### GridSearch\n",
    "### Other metric scores"
   ]
  },
  {
   "cell_type": "markdown",
   "metadata": {},
   "source": [
    "## Validation Curve\n",
    "\n",
    "- 改變參數觀察變化\n",
    "- Note: C 越大, 正規化效果越小"
   ]
  },
  {
   "cell_type": "code",
   "execution_count": 12,
   "metadata": {},
   "outputs": [
    {
     "data": {
      "image/png": "[encoded data removed]",
      "text/plain": [
       "<Figure size 432x288 with 1 Axes>"
      ]
     },
     "metadata": {
      "needs_background": "light"
     },
     "output_type": "display_data"
    }
   ],
   "source": [
    "param_range = [0.001,0.01,0.1,1.0,10.0,100.0]\n",
    "\n",
    "train_scores,test_scores = validation_curve(estimator = lr,\n",
    "                                            X = X_train_std,\n",
    "                                            y = y_train,\n",
    "                                            param_name = 'C',\n",
    "                                            param_range = param_range,\n",
    "                                            cv = 10,\n",
    "                                            n_jobs = -1)\n",
    "\n",
    "train_mean = np.mean(train_scores,axis = 1)\n",
    "train_std = np.std(train_scores,axis = 1)\n",
    "test_mean = np.mean(test_scores,axis = 1)\n",
    "test_std = np.std(test_scores,axis = 1)\n",
    "\n",
    "plt.plot(param_range, train_mean,\n",
    "        color  ='blue', marker = 'o',\n",
    "        markersize = 5,\n",
    "        label = 'Training Accuracy')\n",
    "\n",
    "plt.fill_between(param_range,\n",
    "                train_mean+train_std,\n",
    "                train_mean-train_std,\n",
    "                alpha = 0.15,color = 'blue')\n",
    "\n",
    "\n",
    "plt.plot(param_range,test_mean,color ='green',\n",
    "         linestyle = '--', marker = 's',markersize = 5,\n",
    "         label = 'Validation Accuracy')\n",
    "\n",
    "plt.fill_between(param_range,\n",
    "                test_mean+test_std,\n",
    "                test_mean-test_std,\n",
    "                alpha = 0.15,color = 'green')\n",
    "\n",
    "plt.grid()\n",
    "plt.xscale('log')\n",
    "plt.xlabel('Parameter C')\n",
    "plt.ylabel('Accuracy')\n",
    "plt.legend(loc = 'lower right')\n",
    "plt.ylim([0.2,1.1])\n",
    "plt.show()"
   ]
  },
  {
   "cell_type": "markdown",
   "metadata": {},
   "source": [
    "## GridSearchCV\n",
    "\n",
    "\n",
    "reference: https://scikit-learn.org/stable/modules/generated/sklearn.model_selection.GridSearchCV.html\n",
    "\n"
   ]
  },
  {
   "cell_type": "code",
   "execution_count": 26,
   "metadata": {},
   "outputs": [
    {
     "name": "stdout",
     "output_type": "stream",
     "text": [
      "Parameters: {'C': 0.1, 'gamma': 0.01, 'kernel': 'rbf'}\n",
      "Mean Scores: 0.4756410256410256\n",
      "Parameters: {'C': 0.1, 'gamma': 0.01, 'kernel': 'linear'}\n",
      "Mean Scores: 0.9525641025641025\n",
      "Parameters: {'C': 0.1, 'gamma': 0.001, 'kernel': 'rbf'}\n",
      "Mean Scores: 0.39551282051282055\n",
      "Parameters: {'C': 0.1, 'gamma': 0.001, 'kernel': 'linear'}\n",
      "Mean Scores: 0.9525641025641025\n",
      "Parameters: {'C': 0.1, 'gamma': 0.0001, 'kernel': 'rbf'}\n",
      "Mean Scores: 0.39551282051282055\n",
      "Parameters: {'C': 0.1, 'gamma': 0.0001, 'kernel': 'linear'}\n",
      "Mean Scores: 0.9525641025641025\n",
      "Parameters: {'C': 1, 'gamma': 0.01, 'kernel': 'rbf'}\n",
      "Mean Scores: 0.9839743589743589\n",
      "Parameters: {'C': 1, 'gamma': 0.01, 'kernel': 'linear'}\n",
      "Mean Scores: 0.9288461538461539\n",
      "Parameters: {'C': 1, 'gamma': 0.001, 'kernel': 'rbf'}\n",
      "Mean Scores: 0.7173076923076923\n",
      "Parameters: {'C': 1, 'gamma': 0.001, 'kernel': 'linear'}\n",
      "Mean Scores: 0.9288461538461539\n",
      "Parameters: {'C': 1, 'gamma': 0.0001, 'kernel': 'rbf'}\n",
      "Mean Scores: 0.39551282051282055\n",
      "Parameters: {'C': 1, 'gamma': 0.0001, 'kernel': 'linear'}\n",
      "Mean Scores: 0.9288461538461539\n",
      "Parameters: {'C': 10, 'gamma': 0.01, 'kernel': 'rbf'}\n",
      "Mean Scores: 0.9448717948717948\n",
      "Parameters: {'C': 10, 'gamma': 0.01, 'kernel': 'linear'}\n",
      "Mean Scores: 0.9211538461538462\n",
      "Parameters: {'C': 10, 'gamma': 0.001, 'kernel': 'rbf'}\n",
      "Mean Scores: 0.9679487179487181\n",
      "Parameters: {'C': 10, 'gamma': 0.001, 'kernel': 'linear'}\n",
      "Mean Scores: 0.9211538461538462\n",
      "Parameters: {'C': 10, 'gamma': 0.0001, 'kernel': 'rbf'}\n",
      "Mean Scores: 0.7333333333333333\n",
      "Parameters: {'C': 10, 'gamma': 0.0001, 'kernel': 'linear'}\n",
      "Mean Scores: 0.9211538461538462\n",
      "Parameters: {'C': 100, 'gamma': 0.01, 'kernel': 'rbf'}\n",
      "Mean Scores: 0.9288461538461539\n",
      "Parameters: {'C': 100, 'gamma': 0.01, 'kernel': 'linear'}\n",
      "Mean Scores: 0.9211538461538462\n",
      "Parameters: {'C': 100, 'gamma': 0.001, 'kernel': 'rbf'}\n",
      "Mean Scores: 0.9448717948717948\n",
      "Parameters: {'C': 100, 'gamma': 0.001, 'kernel': 'linear'}\n",
      "Mean Scores: 0.9211538461538462\n",
      "Parameters: {'C': 100, 'gamma': 0.0001, 'kernel': 'rbf'}\n",
      "Mean Scores: 0.9679487179487181\n",
      "Parameters: {'C': 100, 'gamma': 0.0001, 'kernel': 'linear'}\n",
      "Mean Scores: 0.9211538461538462\n",
      "Parameters: {'C': 1000, 'gamma': 0.01, 'kernel': 'rbf'}\n",
      "Mean Scores: 0.9288461538461539\n",
      "Parameters: {'C': 1000, 'gamma': 0.01, 'kernel': 'linear'}\n",
      "Mean Scores: 0.9211538461538462\n",
      "Parameters: {'C': 1000, 'gamma': 0.001, 'kernel': 'rbf'}\n",
      "Mean Scores: 0.9211538461538462\n",
      "Parameters: {'C': 1000, 'gamma': 0.001, 'kernel': 'linear'}\n",
      "Mean Scores: 0.9211538461538462\n",
      "Parameters: {'C': 1000, 'gamma': 0.0001, 'kernel': 'rbf'}\n",
      "Mean Scores: 0.9448717948717948\n",
      "Parameters: {'C': 1000, 'gamma': 0.0001, 'kernel': 'linear'}\n",
      "Mean Scores: 0.9211538461538462\n",
      "\n",
      "\n",
      "Best Combinations: {'C': 1, 'gamma': 0.01, 'kernel': 'rbf'}\n",
      "Best Mean Score: 0.9839743589743589\n"
     ]
    }
   ],
   "source": [
    "tuned_parameters = [{'kernel': ['rbf','linear'],\n",
    "                     'gamma': [1e-2,1e-3, 1e-4],\n",
    "                     'C': [0.1,1, 10, 100, 1000]}]\n",
    "\n",
    "gs = GridSearchCV(estimator = SVC(random_state = 0, verbose = 0),\n",
    "                 param_grid = tuned_parameters,\n",
    "                 scoring = 'accuracy',\n",
    "                 cv = 10,\n",
    "                 n_jobs = -1)\n",
    "\n",
    "gs.fit(X_train_std,y_train)\n",
    "\n",
    "combinations = gs.cv_results_['params']\n",
    "mean_scores = gs.cv_results_['mean_test_score']\n",
    "for i in range(0,len(combinations)):\n",
    "    print('Parameters:',combinations[i])\n",
    "    print('Mean Scores:',mean_scores[i])\n",
    "print('\\n')\n",
    "print('Best Combinations:',gs.best_params_)\n",
    "print('Best Mean Score:',gs.best_score_)\n",
    "\n"
   ]
  },
  {
   "cell_type": "markdown",
   "metadata": {},
   "source": [
    "## Performance Metrix and  Confusion Matrix"
   ]
  },
  {
   "cell_type": "code",
   "execution_count": 31,
   "metadata": {},
   "outputs": [
    {
     "name": "stdout",
     "output_type": "stream",
     "text": [
      "              precision    recall  f1-score   support\n",
      "\n",
      "           1       1.00      1.00      1.00        19\n",
      "           2       1.00      0.95      0.98        22\n",
      "           3       0.93      1.00      0.96        13\n",
      "\n",
      "    accuracy                           0.98        54\n",
      "   macro avg       0.98      0.98      0.98        54\n",
      "weighted avg       0.98      0.98      0.98        54\n",
      "\n",
      "[[19  0  0]\n",
      " [ 0 21  1]\n",
      " [ 0  0 13]]\n"
     ]
    }
   ],
   "source": [
    "## Performance Matrix\n",
    "print(metrics.classification_report(y_test, lr.predict(X_test_std)))\n",
    "\n",
    "## Confusion Matrix\n",
    "print(metrics.confusion_matrix(y_test,lr.predict(X_test_std)))"
   ]
  },
  {
   "cell_type": "code",
   "execution_count": null,
   "metadata": {},
   "outputs": [],
   "source": []
  },
  {
   "cell_type": "code",
   "execution_count": null,
   "metadata": {},
   "outputs": [],
   "source": []
  }
 ],
 "metadata": {
  "kernelspec": {
   "display_name": "Python 3",
   "language": "python",
   "name": "python3"
  },
  "language_info": {
   "codemirror_mode": {
    "name": "ipython",
    "version": 3
   },
   "file_extension": ".py",
   "mimetype": "text/x-python",
   "name": "python",
   "nbconvert_exporter": "python",
   "pygments_lexer": "ipython3",
   "version": "3.6.5"
  }
 },
 "nbformat": 4,
 "nbformat_minor": 4
}
